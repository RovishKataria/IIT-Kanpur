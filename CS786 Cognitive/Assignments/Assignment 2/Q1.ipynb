{
 "cells": [
  {
   "cell_type": "markdown",
   "metadata": {},
   "source": [
    "## Q1. (40 points) Without using any third-party libraries or toolboxes, write code to\n",
    "(a) take any three variable Boolean function as input\n",
    "\n",
    "(b) generate training examples for this Boolean function\n",
    "\n",
    "(c) train a neural network to learn this Boolean function, and\n",
    "\n",
    "(d) verify that the function has been learned, for five separate Boolean functions."
   ]
  },
  {
   "cell_type": "code",
   "execution_count": 31,
   "metadata": {},
   "outputs": [],
   "source": [
    "import numpy as np\n",
    "from numpy.random import rand as rand_uniform\n",
    "import matplotlib.pyplot as plt"
   ]
  },
  {
   "cell_type": "code",
   "execution_count": 32,
   "metadata": {},
   "outputs": [],
   "source": [
    "def sigmoid(x):\n",
    "    return 1 / (1 + np.exp(-x))\n",
    "\n",
    "def compute_gradient(inputs, predicted, actual):\n",
    "    gradient = inputs * predicted * (predicted - actual) * (predicted - 1)\n",
    "    return (np.sum(gradient, axis=0)).reshape((inputs.shape[1], 1))\n",
    "\n",
    "def predicted_output(input_x, input_y, input_z, weights, bias):\n",
    "    input_vector = np.array([[input_x, input_y, input_z]])\n",
    "    prediction = sigmoid(np.dot(input_vector, weights) + bias)\n",
    "    return int(prediction[0, 0] > 0.5)\n",
    "\n",
    "def verify_bool_func(train_inputs, weights, bias):\n",
    "    for test_input in train_inputs:\n",
    "        test_x, test_y, test_z = test_input\n",
    "        print(f\"{test_input} -> [ {predicted_output(test_x, test_y, test_z, weights, bias)} ]\")\n"
   ]
  },
  {
   "cell_type": "code",
   "execution_count": 33,
   "metadata": {},
   "outputs": [],
   "source": [
    "def function_calling():\n",
    "    train_inputs = np.array([[0, 0, 0],\n",
    "                             [0, 0, 1],\n",
    "                             [0, 1, 0],\n",
    "                             [0, 1, 1],\n",
    "                             [1, 0, 0],\n",
    "                             [1, 0, 1],\n",
    "                             [1, 1, 0],\n",
    "                             [1, 1, 1]])\n",
    "\n",
    "    train_outputs = np.zeros((8, 1))\n",
    "\n",
    "    weights = rand_uniform(3, 1) - 0.5\n",
    "    bias = rand_uniform(1, 1) - 0.5\n",
    "    learning_rate = 1\n",
    "\n",
    "    user_input = input(\"Use variables a, b, c as inputs.\\nUse a' to indicate NOT of a.\\nUse '+' for OR and '*' for AND operators.\\nEx: a * b + c'\\nEnter function: \")\n",
    "    bool_func = \"\"\n",
    "\n",
    "    for i in range(len(user_input)):\n",
    "        if (user_input[i] == \"'\"):\n",
    "            bool_func = bool_func[:-1] + \"(1-\" + str(bool_func[-1]) + \")\"\n",
    "        else:\n",
    "            bool_func += user_input[i]\n",
    "\n",
    "    print(f\"Training on Boolean function ({user_input}) \\n...\")\n",
    "    for i in range(8):\n",
    "        a, b, c = train_inputs[i]\n",
    "        train_outputs[i] = not(not(eval(bool_func)))\n",
    "\n",
    "    epochs = []\n",
    "    errors = []\n",
    "    for epoch in range(1000):\n",
    "        predictions = sigmoid(np.dot(train_inputs, weights) + bias).reshape(-1, 1)\n",
    "        if (epoch % 100 == 0):\n",
    "            mean_squared_error = np.sum((predictions - train_outputs) ** 2) / 8\n",
    "            print(f\"Epoch {epoch}, Error: {mean_squared_error}\")\n",
    "            epochs.append(epoch)\n",
    "            errors.append(mean_squared_error)\n",
    "    \n",
    "        delta_weights = compute_gradient(train_inputs, predictions, train_outputs)\n",
    "        delta_bias = compute_gradient(np.ones((8, 1)), predictions, train_outputs)\n",
    "\n",
    "        weights += learning_rate * delta_weights\n",
    "        bias += learning_rate * delta_bias\n",
    "\n",
    "    print(\"Training Done\\n\")\n",
    "\n",
    "    # plt.plot(epochs, errors, label='Error')\n",
    "    # plt.xlabel('Epoch')\n",
    "    # plt.ylabel('Mean Squared Error')\n",
    "    # plt.title('Error vs Epoch')\n",
    "    # plt.legend()\n",
    "    # plt.show()\n",
    "\n",
    "    print(f\"\\nVerifying the Boolean Function: {user_input}\")\n",
    "    print(f\"[a b c] [{user_input}]\")\n",
    "    verify_bool_func(train_inputs, weights, bias)\n",
    "    print(\"\\n\\n\")"
   ]
  },
  {
   "cell_type": "code",
   "execution_count": 34,
   "metadata": {},
   "outputs": [
    {
     "name": "stdout",
     "output_type": "stream",
     "text": [
      "Training on Boolean function (a + b + c) \n",
      "...\n",
      "Epoch 0, Error: 0.2798287156398136\n",
      "Epoch 100, Error: 0.013614675029357887\n",
      "Epoch 200, Error: 0.006205368339616828\n",
      "Epoch 300, Error: 0.0038811907846688113\n",
      "Epoch 400, Error: 0.0027876820743820826\n",
      "Epoch 500, Error: 0.0021614125734151866\n",
      "Epoch 600, Error: 0.0017586821608096574\n",
      "Epoch 700, Error: 0.0014791682817477192\n",
      "Epoch 800, Error: 0.0012744077485595997\n",
      "Epoch 900, Error: 0.001118253820943749\n",
      "Training Done\n",
      "\n",
      "\n",
      "Verifying the Boolean Function: a + b + c\n",
      "[a b c] [a + b + c]\n",
      "[0 0 0] -> [ 0 ]\n",
      "[0 0 1] -> [ 1 ]\n",
      "[0 1 0] -> [ 1 ]\n",
      "[0 1 1] -> [ 1 ]\n",
      "[1 0 0] -> [ 1 ]\n",
      "[1 0 1] -> [ 1 ]\n",
      "[1 1 0] -> [ 1 ]\n",
      "[1 1 1] -> [ 1 ]\n",
      "\n",
      "\n",
      "\n"
     ]
    }
   ],
   "source": [
    "function_calling() # a + b + c"
   ]
  },
  {
   "cell_type": "code",
   "execution_count": 35,
   "metadata": {},
   "outputs": [
    {
     "name": "stdout",
     "output_type": "stream",
     "text": [
      "Training on Boolean function (a + b + c') \n",
      "...\n",
      "Epoch 0, Error: 0.23934855088930806\n",
      "Epoch 100, Error: 0.012176519345507118\n",
      "Epoch 200, Error: 0.005766852659118112\n",
      "Epoch 300, Error: 0.0036735021553456347\n",
      "Epoch 400, Error: 0.002666333318603877\n",
      "Epoch 500, Error: 0.0020814546355118276\n",
      "Epoch 600, Error: 0.0017017641375083438\n",
      "Epoch 700, Error: 0.0014364176653815705\n",
      "Epoch 800, Error: 0.0012410096566552629\n",
      "Epoch 900, Error: 0.00109136663502441\n",
      "Training Done\n",
      "\n",
      "\n",
      "Verifying the Boolean Function: a + b + c'\n",
      "[a b c] [a + b + c']\n",
      "[0 0 0] -> [ 1 ]\n",
      "[0 0 1] -> [ 0 ]\n",
      "[0 1 0] -> [ 1 ]\n",
      "[0 1 1] -> [ 1 ]\n",
      "[1 0 0] -> [ 1 ]\n",
      "[1 0 1] -> [ 1 ]\n",
      "[1 1 0] -> [ 1 ]\n",
      "[1 1 1] -> [ 1 ]\n",
      "\n",
      "\n",
      "\n"
     ]
    }
   ],
   "source": [
    "function_calling() # a + b + c'"
   ]
  },
  {
   "cell_type": "code",
   "execution_count": 36,
   "metadata": {},
   "outputs": [
    {
     "name": "stdout",
     "output_type": "stream",
     "text": [
      "Training on Boolean function (a * b * c) \n",
      "...\n",
      "Epoch 0, Error: 0.3161304562312671\n",
      "Epoch 100, Error: 0.03167419267299573\n",
      "Epoch 200, Error: 0.017225758144176723\n",
      "Epoch 300, Error: 0.01143760550700229\n",
      "Epoch 400, Error: 0.00841776991359573\n",
      "Epoch 500, Error: 0.006598454446795742\n",
      "Epoch 600, Error: 0.0053958113245331125\n",
      "Epoch 700, Error: 0.004547594239679974\n",
      "Epoch 800, Error: 0.003920126903254938\n",
      "Epoch 900, Error: 0.003438702575002671\n",
      "Training Done\n",
      "\n",
      "\n",
      "Verifying the Boolean Function: a * b * c\n",
      "[a b c] [a * b * c]\n",
      "[0 0 0] -> [ 0 ]\n",
      "[0 0 1] -> [ 0 ]\n",
      "[0 1 0] -> [ 0 ]\n",
      "[0 1 1] -> [ 0 ]\n",
      "[1 0 0] -> [ 0 ]\n",
      "[1 0 1] -> [ 0 ]\n",
      "[1 1 0] -> [ 0 ]\n",
      "[1 1 1] -> [ 1 ]\n",
      "\n",
      "\n",
      "\n"
     ]
    }
   ],
   "source": [
    "function_calling() # a * b * c"
   ]
  },
  {
   "cell_type": "code",
   "execution_count": 37,
   "metadata": {},
   "outputs": [
    {
     "name": "stdout",
     "output_type": "stream",
     "text": [
      "Training on Boolean function (a * b * c') \n",
      "...\n",
      "Epoch 0, Error: 0.23800353114962194\n",
      "Epoch 100, Error: 0.019230403044371062\n",
      "Epoch 200, Error: 0.009626815643043223\n",
      "Epoch 300, Error: 0.006210559519053703\n",
      "Epoch 400, Error: 0.004521113600811864\n",
      "Epoch 500, Error: 0.0035293531247543378\n",
      "Epoch 600, Error: 0.0028825884796007334\n",
      "Epoch 700, Error: 0.0024297939269292\n",
      "Epoch 800, Error: 0.0020962025264089548\n",
      "Epoch 900, Error: 0.0018408083152395937\n",
      "Training Done\n",
      "\n",
      "\n",
      "Verifying the Boolean Function: a * b * c'\n",
      "[a b c] [a * b * c']\n",
      "[0 0 0] -> [ 0 ]\n",
      "[0 0 1] -> [ 0 ]\n",
      "[0 1 0] -> [ 0 ]\n",
      "[0 1 1] -> [ 0 ]\n",
      "[1 0 0] -> [ 0 ]\n",
      "[1 0 1] -> [ 0 ]\n",
      "[1 1 0] -> [ 1 ]\n",
      "[1 1 1] -> [ 0 ]\n",
      "\n",
      "\n",
      "\n"
     ]
    }
   ],
   "source": [
    "function_calling() # a * b * c'"
   ]
  },
  {
   "cell_type": "code",
   "execution_count": 38,
   "metadata": {},
   "outputs": [
    {
     "name": "stdout",
     "output_type": "stream",
     "text": [
      "Training on Boolean function (a * b + c) \n",
      "...\n",
      "Epoch 0, Error: 0.25356094837800197\n",
      "Epoch 100, Error: 0.026172798384646888\n",
      "Epoch 200, Error: 0.0143369080184499\n",
      "Epoch 300, Error: 0.00958941847962622\n",
      "Epoch 400, Error: 0.0071023764454781115\n",
      "Epoch 500, Error: 0.00559620594144304\n",
      "Epoch 600, Error: 0.004595533249566687\n",
      "Epoch 700, Error: 0.003886567762725131\n",
      "Epoch 800, Error: 0.0033600269848687624\n",
      "Epoch 900, Error: 0.0029546344454664244\n",
      "Training Done\n",
      "\n",
      "\n",
      "Verifying the Boolean Function: a * b + c\n",
      "[a b c] [a * b + c]\n",
      "[0 0 0] -> [ 0 ]\n",
      "[0 0 1] -> [ 1 ]\n",
      "[0 1 0] -> [ 0 ]\n",
      "[0 1 1] -> [ 1 ]\n",
      "[1 0 0] -> [ 0 ]\n",
      "[1 0 1] -> [ 1 ]\n",
      "[1 1 0] -> [ 1 ]\n",
      "[1 1 1] -> [ 1 ]\n",
      "\n",
      "\n",
      "\n"
     ]
    }
   ],
   "source": [
    "function_calling() # a * b + c"
   ]
  },
  {
   "cell_type": "code",
   "execution_count": 39,
   "metadata": {},
   "outputs": [
    {
     "name": "stdout",
     "output_type": "stream",
     "text": [
      "Training on Boolean function (a' * b + c) \n",
      "...\n",
      "Epoch 0, Error: 0.32739290863292153\n",
      "Epoch 100, Error: 0.020746137653580767\n",
      "Epoch 200, Error: 0.010829793103978039\n",
      "Epoch 300, Error: 0.007120881816930371\n",
      "Epoch 400, Error: 0.005237645921634788\n",
      "Epoch 500, Error: 0.004114745111447068\n",
      "Epoch 600, Error: 0.0033749908772568223\n",
      "Epoch 700, Error: 0.0028534211012319725\n",
      "Epoch 800, Error: 0.0024671652904771674\n",
      "Epoch 900, Error: 0.0021702841695248175\n",
      "Training Done\n",
      "\n",
      "\n",
      "Verifying the Boolean Function: a' * b + c\n",
      "[a b c] [a' * b + c]\n",
      "[0 0 0] -> [ 0 ]\n",
      "[0 0 1] -> [ 1 ]\n",
      "[0 1 0] -> [ 1 ]\n",
      "[0 1 1] -> [ 1 ]\n",
      "[1 0 0] -> [ 0 ]\n",
      "[1 0 1] -> [ 1 ]\n",
      "[1 1 0] -> [ 0 ]\n",
      "[1 1 1] -> [ 1 ]\n",
      "\n",
      "\n",
      "\n"
     ]
    }
   ],
   "source": [
    "function_calling() # a' * b + c"
   ]
  }
 ],
 "metadata": {
  "kernelspec": {
   "display_name": "Python 3",
   "language": "python",
   "name": "python3"
  },
  "language_info": {
   "codemirror_mode": {
    "name": "ipython",
    "version": 3
   },
   "file_extension": ".py",
   "mimetype": "text/x-python",
   "name": "python",
   "nbconvert_exporter": "python",
   "pygments_lexer": "ipython3",
   "version": "3.12.4"
  }
 },
 "nbformat": 4,
 "nbformat_minor": 2
}
