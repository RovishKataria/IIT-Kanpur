{
 "cells": [
  {
   "cell_type": "markdown",
   "metadata": {},
   "source": [
    "Q3. Can you write a function that converts MNIST digit [data](https://gitlab.com/datapythonista/mnist) to the sort of patterns used in this simulation? (20 points)"
   ]
  },
  {
   "cell_type": "code",
   "execution_count": 44,
   "metadata": {},
   "outputs": [],
   "source": [
    "import numpy as np\n",
    "from neurodynex3.hopfield_network import plot_tools\n",
    "from tensorflow.keras.datasets import mnist\n",
    "from PIL import Image"
   ]
  },
  {
   "cell_type": "code",
   "execution_count": 45,
   "metadata": {},
   "outputs": [],
   "source": [
    "def convert_mnist_to_binary_patterns(num_samples=100, psize=(4, 4)):\n",
    "    (x_train, y_train), (_, _) = mnist.load_data()\n",
    "\n",
    "    indices = np.random.choice(x_train.shape[0], num_samples, replace=False)\n",
    "    selected_images = x_train[indices]\n",
    "\n",
    "    binary_patterns = []\n",
    "    for img in selected_images:\n",
    "        # Resize image to match the desired pattern size\n",
    "        resized_img = np.array(Image.fromarray(img).resize(psize, Image.Resampling.LANCZOS))\n",
    "        binary_img = np.where(resized_img > 127, 1, 0)\n",
    "        binary_patterns.append(binary_img)\n",
    "    \n",
    "    return binary_patterns"
   ]
  },
  {
   "cell_type": "code",
   "execution_count": 63,
   "metadata": {},
   "outputs": [
    {
     "data": {
      "image/png": "[encoded data removed]",
      "text/plain": [
       "<Figure size 640x480 with 5 Axes>"
      ]
     },
     "metadata": {},
     "output_type": "display_data"
    }
   ],
   "source": [
    "# Example usage:\n",
    "pattern_size = 4\n",
    "binary_patterns = convert_mnist_to_binary_patterns(num_samples=5, psize=(4, 4))\n",
    "plot_tools.plot_pattern_list(binary_patterns)"
   ]
  }
 ],
 "metadata": {
  "kernelspec": {
   "display_name": ".venv",
   "language": "python",
   "name": "python3"
  },
  "language_info": {
   "codemirror_mode": {
    "name": "ipython",
    "version": 3
   },
   "file_extension": ".py",
   "mimetype": "text/x-python",
   "name": "python",
   "nbconvert_exporter": "python",
   "pygments_lexer": "ipython3",
   "version": "3.12.4"
  }
 },
 "nbformat": 4,
 "nbformat_minor": 2
}
