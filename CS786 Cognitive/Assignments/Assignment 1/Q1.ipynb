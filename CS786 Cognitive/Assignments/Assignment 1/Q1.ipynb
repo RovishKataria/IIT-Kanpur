{
 "cells": [
  {
   "cell_type": "markdown",
   "metadata": {},
   "source": [
    "## Assignment 1"
   ]
  },
  {
   "cell_type": "markdown",
   "metadata": {},
   "source": [
    "Q1. Can you write you own Hopfield network model that works more or less like the one simulated above? (20 points)"
   ]
  },
  {
   "cell_type": "code",
   "execution_count": 1,
   "metadata": {},
   "outputs": [
    {
     "ename": "ModuleNotFoundError",
     "evalue": "No module named 'numpy'",
     "output_type": "error",
     "traceback": [
      "\u001b[1;31m---------------------------------------------------------------------------\u001b[0m",
      "\u001b[1;31mModuleNotFoundError\u001b[0m                       Traceback (most recent call last)",
      "Cell \u001b[1;32mIn[1], line 1\u001b[0m\n\u001b[1;32m----> 1\u001b[0m \u001b[38;5;28;01mimport\u001b[39;00m \u001b[38;5;21;01mnumpy\u001b[39;00m \u001b[38;5;28;01mas\u001b[39;00m \u001b[38;5;21;01mnp\u001b[39;00m\n\u001b[0;32m      2\u001b[0m \u001b[38;5;28;01mfrom\u001b[39;00m \u001b[38;5;21;01mcopy\u001b[39;00m \u001b[38;5;28;01mimport\u001b[39;00m deepcopy\n\u001b[0;32m      3\u001b[0m \u001b[38;5;28;01mfrom\u001b[39;00m \u001b[38;5;21;01mneurodynex3\u001b[39;00m\u001b[38;5;21;01m.\u001b[39;00m\u001b[38;5;21;01mhopfield_network\u001b[39;00m \u001b[38;5;28;01mimport\u001b[39;00m plot_tools\n",
      "\u001b[1;31mModuleNotFoundError\u001b[0m: No module named 'numpy'"
     ]
    }
   ],
   "source": [
    "import numpy as np\n",
    "from copy import deepcopy\n",
    "from neurodynex3.hopfield_network import plot_tools"
   ]
  },
  {
   "cell_type": "code",
   "execution_count": 19,
   "metadata": {},
   "outputs": [],
   "source": [
    "def get_patterns(psize, num_patterns):\n",
    "    patterns = []\n",
    "    for _ in range(num_patterns):\n",
    "        pattern = np.random.choice([0, 1], size=(psize, psize))\n",
    "        patterns.append(pattern)\n",
    "    return patterns\n",
    "\n",
    "# Introducing noise to the new created deepcopy \"cue\"\n",
    "def perturb_pattern(pattern, num_flips):\n",
    "    # Creates a shallow copy\n",
    "    noisy_pattern = pattern.copy()\n",
    "    flat_pattern = noisy_pattern.flatten()\n",
    "    indices = np.random.choice(len(flat_pattern), num_flips, replace=False)\n",
    "    flat_pattern[indices] = 1 - flat_pattern[indices]\n",
    "    noisy_pattern = flat_pattern.reshape(pattern.shape)\n",
    "    return noisy_pattern\n",
    "\n",
    "def calculate_weights(plist, psize):\n",
    "    # Creates 16 neurons corresponding to pixels of pattern\n",
    "    nr_neurons = psize**2\n",
    "    # Creates 16X16 weight matrix to hold wieghts of neurons\n",
    "    wghts = np.zeros((nr_neurons, nr_neurons))\n",
    "\n",
    "    for pattern in plist:\n",
    "        pattern = pattern.flatten()\n",
    "        pattern = pattern.reshape((nr_neurons, 1))\n",
    "        wghts += np.dot(pattern, pattern.T)\n",
    "    \n",
    "    # Removing self connections\n",
    "    wghts -= len(plist) * np.eye(nr_neurons)\n",
    "    return wghts\n",
    "\n",
    "def network_evolution(pnoisy, wghts):\n",
    "    # noisy pattern converted into 16X1 vector\n",
    "    pnoisy_flat = pnoisy.flatten()\n",
    "    updated_pnoisy = np.dot(pnoisy_flat, wghts)\n",
    "    updated_pnoisy = (updated_pnoisy > 0).astype(int)\n",
    "    return updated_pnoisy.reshape(pnoisy.shape)\n"
   ]
  },
  {
   "cell_type": "code",
   "execution_count": 20,
   "metadata": {},
   "outputs": [
    {
     "data": {
      "image/png": "[encoded data removed]",
      "text/plain": [
       "<Figure size 640x480 with 5 Axes>"
      ]
     },
     "metadata": {},
     "output_type": "display_data"
    }
   ],
   "source": [
    "pattern_size = 4\n",
    "no_of_patterns = 5\n",
    "\n",
    "pattern_list = get_patterns(pattern_size, no_of_patterns)\n",
    "# Plotting original patterns\n",
    "plot_tools.plot_pattern_list(pattern_list)"
   ]
  },
  {
   "cell_type": "code",
   "execution_count": 21,
   "metadata": {},
   "outputs": [
    {
     "data": {
      "image/png": "[encoded data removed]",
      "text/plain": [
       "<Figure size 640x480 with 1 Axes>"
      ]
     },
     "metadata": {},
     "output_type": "display_data"
    }
   ],
   "source": [
    "weights = calculate_weights(pattern_list, pattern_size)\n",
    "# print(weights)\n",
    "\n",
    "# Creating a deep level copy of our pattern list\n",
    "cue = deepcopy(pattern_list)\n",
    "no_of_flips = 3\n",
    "initial_state = perturb_pattern(cue[0], no_of_flips)\n",
    "plot_tools.plot_pattern(initial_state)"
   ]
  },
  {
   "cell_type": "code",
   "execution_count": 22,
   "metadata": {},
   "outputs": [
    {
     "data": {
      "image/png": "[encoded data removed]",
      "text/plain": [
       "<Figure size 640x480 with 4 Axes>"
      ]
     },
     "metadata": {},
     "output_type": "display_data"
    }
   ],
   "source": [
    "state_list =[initial_state]\n",
    "for i in range(3):\n",
    "    state_list.append(network_evolution(initial_state, weights))\n",
    "\n",
    "plot_tools.plot_pattern_list(state_list)"
   ]
  },
  {
   "cell_type": "code",
   "execution_count": 23,
   "metadata": {},
   "outputs": [
    {
     "name": "stdout",
     "output_type": "stream",
     "text": [
      "\n"
     ]
    },
    {
     "data": {
      "image/png": "[encoded data removed]",
      "text/plain": [
       "<Figure size 640x480 with 8 Axes>"
      ]
     },
     "metadata": {},
     "output_type": "display_data"
    }
   ],
   "source": [
    "plot_tools.plot_state_sequence_and_overlap(state_list, pattern_list, reference_idx=0, suptitle=\"Network dynamics\")"
   ]
  }
 ],
 "metadata": {
  "kernelspec": {
   "display_name": ".venv",
   "language": "python",
   "name": "python3"
  },
  "language_info": {
   "codemirror_mode": {
    "name": "ipython",
    "version": 3
   },
   "file_extension": ".py",
   "mimetype": "text/x-python",
   "name": "python",
   "nbconvert_exporter": "python",
   "pygments_lexer": "ipython3",
   "version": "3.12.4"
  }
 },
 "nbformat": 4,
 "nbformat_minor": 2
}
